{
 "cells": [
  {
   "cell_type": "code",
   "execution_count": 2,
   "id": "2e48cd28",
   "metadata": {},
   "outputs": [],
   "source": [
    "import cv2, os\n",
    "import numpy as np\n",
    "from PIL import Image\n",
    "recognizer = cv2.face.LBPHFaceRecognizer_create()\n",
    "detector = cv2.CascadeClassifier(\"haarcascade_frontalface_default.xml\");\n",
    "def getImagesWithLabels(path):\n",
    "    imagePaths=[os.path.join(path,f) for f in os.listdir(path)]\n",
    "    faceSamples=[]\n",
    "    Ids=[]\n",
    "    for imagePath in imagePaths:\n",
    "        pilImage=Image.open(imagePath).convert('L')\n",
    "        imageNp=np.array(pilImage,'uint8')\n",
    "        Id=int(os.path.split(imagePath)[-1].split(\".\")[1])\n",
    "        faces=detector.detectMultiScale(imageNp)\n",
    "        for (x,y,w,h) in faces:\n",
    "            faceSamples.append(imageNp[y:y+h,x:x+w])\n",
    "            Ids.append(Id)\n",
    "    return faceSamples, Ids\n",
    "faces, Ids = getImagesWithLabels('DataSet')\n",
    "recognizer.train(faces, np.array(Ids))\n",
    "recognizer.save('dataset/training.xml')"
   ]
  },
  {
   "cell_type": "code",
   "execution_count": null,
   "id": "f155665a",
   "metadata": {},
   "outputs": [],
   "source": []
  }
 ],
 "metadata": {
  "kernelspec": {
   "display_name": "Python 3 (ipykernel)",
   "language": "python",
   "name": "python3"
  },
  "language_info": {
   "codemirror_mode": {
    "name": "ipython",
    "version": 3
   },
   "file_extension": ".py",
   "mimetype": "text/x-python",
   "name": "python",
   "nbconvert_exporter": "python",
   "pygments_lexer": "ipython3",
   "version": "3.8.5"
  }
 },
 "nbformat": 4,
 "nbformat_minor": 5
}
