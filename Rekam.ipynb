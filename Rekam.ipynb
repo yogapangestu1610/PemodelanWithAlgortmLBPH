{
 "cells": [
  {
   "cell_type": "code",
   "execution_count": 4,
   "id": "66324cc4",
   "metadata": {},
   "outputs": [
    {
     "name": "stdout",
     "output_type": "stream",
     "text": [
      "Masukan id:2\n"
     ]
    }
   ],
   "source": [
    "import cv2, time\n",
    "\n",
    "camera = 0\n",
    "video = cv2.VideoCapture(camera, cv2.CAP_DSHOW)\n",
    "faceDeteksi = cv2.CascadeClassifier('haarcascade_frontalface_default.xml')\n",
    "\n",
    "id = input ('Masukan id:')\n",
    "\n",
    "a = 0\n",
    "while True:\n",
    "    a = a+1\n",
    "    check, frame = video.read()\n",
    "    abu = cv2.cvtColor(frame, cv2.COLOR_BGR2GRAY)\n",
    "    wajah =  faceDeteksi.detectMultiScale(abu, 1.3,5)\n",
    "    for (x,y,w,h) in wajah:\n",
    "        cv2.imwrite('dataset/User.' +str(id)+ '.' + str(a)+ '.jpg' , abu[y:y+h, x:x+w])\n",
    "        cv2.rectangle(frame, (x,y), (x+w, y+h), (0,255,0),2)\n",
    "    cv2.imshow (\"Face Recognition\", frame )\n",
    "    if (a > 29):\n",
    "        break\n",
    "video.release()\n",
    "cv2.destroyAllWindows()\n"
   ]
  },
  {
   "cell_type": "code",
   "execution_count": null,
   "id": "9f509603",
   "metadata": {},
   "outputs": [],
   "source": []
  }
 ],
 "metadata": {
  "kernelspec": {
   "display_name": "Python 3 (ipykernel)",
   "language": "python",
   "name": "python3"
  },
  "language_info": {
   "codemirror_mode": {
    "name": "ipython",
    "version": 3
   },
   "file_extension": ".py",
   "mimetype": "text/x-python",
   "name": "python",
   "nbconvert_exporter": "python",
   "pygments_lexer": "ipython3",
   "version": "3.8.5"
  }
 },
 "nbformat": 4,
 "nbformat_minor": 5
}
