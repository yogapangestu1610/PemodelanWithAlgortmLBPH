{
 "cells": [
  {
   "cell_type": "code",
   "execution_count": 8,
   "id": "2093be3e",
   "metadata": {},
   "outputs": [],
   "source": [
    "import cv2, time\n",
    "import os\n",
    "from PIL import Image\n",
    "\n",
    "camera = 0\n",
    "video = cv2.VideoCapture(camera, cv2.CAP_DSHOW)\n",
    "faceDeteksi = cv2.CascadeClassifier('haarcascade_frontalface_default.xml')\n",
    "recognizer = cv2.face.LBPHFaceRecognizer_create()\n",
    "recognizer.read('dataset/training.xml')\n",
    "\n",
    "a = 0\n",
    "while True:\n",
    "    a = a+1\n",
    "    check, frame = video.read()\n",
    "    abu = cv2.cvtColor(frame, cv2.COLOR_BGR2GRAY)\n",
    "    wajah =  faceDeteksi.detectMultiScale(abu, 1.3, 5)\n",
    "    for (x,y,w,h) in wajah:\n",
    "        cv2.rectangle(frame, (x,y), (x+w, y+h), (0,255,0),2)\n",
    "        id, conf = recognizer.predict(abu[y:y+h, x:x+w])\n",
    "        if (id == 1):\n",
    "            id = 'Yoga'\n",
    "        elif (id == 2):\n",
    "            id = 'Utlah'\n",
    "        cv2.putText(frame, str(id) ,(x+40, y-10), cv2.FONT_HERSHEY_DUPLEX, 1, (0,255,0))\n",
    "    \n",
    "    cv2.imshow (\"Face Recognition\", frame)\n",
    "    key = cv2.waitKey(1)\n",
    "    if key == ord('a'):\n",
    "        break\n",
    "\n",
    "video.release()\n",
    "cv2.destroyAllWindows()"
   ]
  },
  {
   "cell_type": "code",
   "execution_count": null,
   "id": "23532b4a",
   "metadata": {},
   "outputs": [],
   "source": []
  }
 ],
 "metadata": {
  "kernelspec": {
   "display_name": "Python 3 (ipykernel)",
   "language": "python",
   "name": "python3"
  },
  "language_info": {
   "codemirror_mode": {
    "name": "ipython",
    "version": 3
   },
   "file_extension": ".py",
   "mimetype": "text/x-python",
   "name": "python",
   "nbconvert_exporter": "python",
   "pygments_lexer": "ipython3",
   "version": "3.8.5"
  }
 },
 "nbformat": 4,
 "nbformat_minor": 5
}
